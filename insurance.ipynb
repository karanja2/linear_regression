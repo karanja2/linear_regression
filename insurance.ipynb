{
  "nbformat": 4,
  "nbformat_minor": 0,
  "metadata": {
    "colab": {
      "provenance": []
    },
    "kernelspec": {
      "name": "python3",
      "display_name": "Python 3"
    },
    "language_info": {
      "name": "python"
    }
  },
  "cells": [
    {
      "cell_type": "code",
      "execution_count": 2,
      "metadata": {
        "colab": {
          "base_uri": "https://localhost:8080/"
        },
        "id": "lFg9B1-cbA8W",
        "outputId": "568d05b6-43c7-4fee-8821-3d8a70c7d8af"
      },
      "outputs": [
        {
          "output_type": "stream",
          "name": "stdout",
          "text": [
            "Mean Absolute Error: 4367.523606000223\n",
            "Mean Squared Error: 38191757.68319823\n",
            "Root Mean Squared Error: 6179.948032402718\n"
          ]
        }
      ],
      "source": [
        "import pandas as pd\n",
        "from sklearn.linear_model import LinearRegression\n",
        "from sklearn.metrics import mean_absolute_error, mean_squared_error, mean_squared_log_error, median_absolute_error, r2_score\n",
        "import numpy as np\n",
        "\n",
        "# Load the data into a pandas DataFrame\n",
        "df = pd.read_csv(\"/content/drive/MyDrive/insurance.csv\")\n",
        "\n",
        "# Define the target variable\n",
        "y = df['charges']\n",
        "\n",
        "# Define the features\n",
        "X = df.drop(['charges'], axis=1)\n",
        "\n",
        "# One-hot encode categorical variables\n",
        "X = pd.get_dummies(X)\n",
        "\n",
        "# Split the data into training and testing sets\n",
        "train_X = X[:-20]\n",
        "train_y = y[:-20]\n",
        "test_X = X[-20:]\n",
        "test_y = y[-20:]\n",
        "\n",
        "# Train a linear regression model\n",
        "model = LinearRegression()\n",
        "model.fit(train_X, train_y)\n",
        "\n",
        "# Predict the target variable for the test set\n",
        "y_pred = model.predict(test_X)\n",
        "\n",
        "# Calculate evaluation metrics\n",
        "mae = mean_absolute_error(test_y, y_pred)\n",
        "mse = mean_squared_error(test_y, y_pred)\n",
        "rmse = np.sqrt(mse)\n",
        "\n",
        "print(\"Mean Absolute Error:\", mae)\n",
        "print(\"Mean Squared Error:\", mse)\n",
        "print(\"Root Mean Squared Error:\", rmse)"
      ]
    },
    {
      "cell_type": "code",
      "source": [
        "\n"
      ],
      "metadata": {
        "id": "QhsIw_mSbyqG"
      },
      "execution_count": null,
      "outputs": []
    }
  ]
}